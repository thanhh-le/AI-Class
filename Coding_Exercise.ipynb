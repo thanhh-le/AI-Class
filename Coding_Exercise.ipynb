{
  "nbformat": 4,
  "nbformat_minor": 0,
  "metadata": {
    "colab": {
      "provenance": [],
      "authorship_tag": "ABX9TyMTt2I1SATBcex9NjwNO+L4",
      "include_colab_link": true
    },
    "kernelspec": {
      "name": "python3",
      "display_name": "Python 3"
    },
    "language_info": {
      "name": "python"
    }
  },
  "cells": [
    {
      "cell_type": "markdown",
      "metadata": {
        "id": "view-in-github",
        "colab_type": "text"
      },
      "source": [
        "<a href=\"https://colab.research.google.com/github/thanhh-le/AI-Class/blob/main/Coding_Exercise.ipynb\" target=\"_parent\"><img src=\"https://colab.research.google.com/assets/colab-badge.svg\" alt=\"Open In Colab\"/></a>"
      ]
    },
    {
      "cell_type": "markdown",
      "source": [
        "#Part 1: Predict house prices based on square footage and location\n"
      ],
      "metadata": {
        "id": "RD5RSBgLs_jb"
      }
    },
    {
      "cell_type": "code",
      "execution_count": 45,
      "metadata": {
        "colab": {
          "base_uri": "https://localhost:8080/"
        },
        "id": "xAZTaNKU9h47",
        "outputId": "c809c349-6e2a-4776-b7e3-9ec08492239e"
      },
      "outputs": [
        {
          "output_type": "stream",
          "name": "stdout",
          "text": [
            "Predicted price for a 2000 sq ft house in 95129: $2,485,461.83\n",
            "\n",
            "Model Coefficients:\n",
            "location_95014: 624093.54\n",
            "location_95051: -664409.28\n",
            "location_95129: 40315.74\n",
            "square_footage: 1704.23\n"
          ]
        }
      ],
      "source": [
        "import pandas as pd\n",
        "import numpy as np\n",
        "from sklearn.model_selection import train_test_split\n",
        "from sklearn.linear_model import LinearRegression\n",
        "from sklearn.preprocessing import OneHotEncoder\n",
        "from sklearn.compose import ColumnTransformer\n",
        "from sklearn.pipeline import Pipeline\n",
        "\n",
        "#Zillow 95014, 95129, 95051 single family houses\n",
        "data = {\n",
        "    'square_footage': [\n",
        "        # 95014 (≈ Cupertino)\n",
        "        820, 910, 1000, 1100, 1250, 1500, 1800, 2100, 2500, 3000,\n",
        "        3200, 3500, 4000, 4500, 5000, 5500, 6000, 6500, 7000, 7500,\n",
        "        800, 950, 1150, 1350, 1550, 1750, 1950, 2150, 2350, 2550,\n",
        "        2750, 2950, 3150, 3350, 3550, 3750, 3950, 4150, 4350, 4550,\n",
        "        480, 680, 880, 1080, 1280, 1480, 1680, 1880, 2080, 2280,\n",
        "        # 95129 (West San Jose near Cupertino)\n",
        "        900, 1100, 1300, 1500, 1700, 1900, 2100, 2300, 2500, 2700,\n",
        "        2900, 3100, 3300, 3500, 3700, 3900, 4100, 4300, 4500, 4700,\n",
        "        500, 700, 900, 1100, 1300, 1500, 1700, 1900, 2100, 2300,\n",
        "        2500, 2700, 2900, 3100, 3300, 3500, 3700, 3900, 4100, 4300,\n",
        "        480, 680, 880, 1080, 1280, 1480, 1680, 1880, 2080, 2280,\n",
        "        # 95051 (Santa Clara side)\n",
        "        800, 1000, 1200, 1400, 1600, 1800, 2000, 2200, 2400, 2600,\n",
        "        2800, 3000, 3200, 3400, 3600, 3800, 4000, 4200, 4400, 4600\n",
        "    ],\n",
        "    'location': [\n",
        "        # 95014\n",
        "        *['95014'] * 50,\n",
        "        # 95129\n",
        "        *['95129'] * 50,\n",
        "        # 95051\n",
        "        *['95051'] * 20  # note: to reach 100 total, this one has 20 points\n",
        "    ],\n",
        "    'price': [\n",
        "        # 95014\n",
        "        800000, 900000, 1100000, 1300000, 1600000, 2000000, 2400000, 3000000, 3500000, 4200000,\n",
        "        4800000, 5500000, 6200000, 7000000, 7800000, 8600000, 9500000, 10400000, 11300000, 12300000,\n",
        "        850000, 1000000, 1300000, 1600000, 2000000, 2300000, 2700000, 3200000, 3600000, 4100000,\n",
        "        4500000, 5000000, 5500000, 6000000, 6500000, 7000000, 7600000, 8200000, 8800000, 9500000,\n",
        "        750000, 950000, 1150000, 1350000, 1600000, 1850000, 2100000, 2400000, 2700000, 3000000,\n",
        "        # 95129\n",
        "        900000, 1100000, 1300000, 1600000, 1900000, 2200000, 2500000, 2800000, 3200000, 3600000,\n",
        "        4000000, 4400000, 4800000, 5200000, 5600000, 6000000, 6500000, 7000000, 7500000, 8000000,\n",
        "        500000, 700000, 900000, 1100000, 1300000, 1600000, 1900000, 2200000, 2500000, 2800000,\n",
        "        3000000, 3300000, 3600000, 3900000, 4200000, 4500000, 4800000, 5200000, 5600000, 6000000,\n",
        "        550000, 750000, 950000, 1150000, 1350000, 1600000, 1900000, 2200000, 2500000, 2800000,\n",
        "        # 95051\n",
        "        700000, 900000, 1100000, 1300000, 1500000, 1750000, 2000000, 2250000, 2500000, 2750000,\n",
        "        3000000, 3200000, 3500000, 3800000, 4100000, 4400000, 4700000, 5000000, 5500000, 6000000\n",
        "    ]\n",
        "}\n",
        "\n",
        "\n",
        "\n",
        "df = pd.DataFrame(data)\n",
        "# display(df)\n",
        "\n",
        "# Features and target\n",
        "X = df[['square_footage', 'location']]\n",
        "y = df['price']\n",
        "\n",
        "# Preprocessing: One-hot encode the location column\n",
        "preprocessor = ColumnTransformer(\n",
        "transformers=[\n",
        "('location', OneHotEncoder(sparse_output=False), ['location'])\n",
        "], remainder='passthrough')\n",
        "\n",
        "# Create pipeline with preprocessing and model\n",
        "model = Pipeline(steps=[\n",
        "('preprocessor', preprocessor),\n",
        "('regressor', LinearRegression())\n",
        "])\n",
        "\n",
        "# Split data\n",
        "X_train, X_test, y_train, y_test = train_test_split(X, y, test_size=0.2,\n",
        "random_state=42)\n",
        "\n",
        "# Train model\n",
        "model.fit(X_train, y_train)\n",
        "\n",
        "# Make prediction for a new house: 2000 sq ft in Downtown\n",
        "new_house = pd.DataFrame({'square_footage': [2000], 'location': ['95129']})\n",
        "predicted_price = model.predict(new_house)\n",
        "print(f\"Predicted price for a 2000 sq ft house in 95129: ${predicted_price[0]:,.2f}\")\n",
        "\n",
        "# Display model coefficients\n",
        "feature_names = (model.named_steps['preprocessor']\n",
        ".named_transformers_['location']\n",
        ".get_feature_names_out(['location'])).tolist() + ['square_footage']\n",
        "coefficients = model.named_steps['regressor'].coef_\n",
        "print(\"\\nModel Coefficients:\")\n",
        "for feature, coef in zip(feature_names, coefficients):\n",
        "    print(f\"{feature}: {coef:.2f}\")"
      ]
    },
    {
      "cell_type": "markdown",
      "source": [
        "#Part 2: Predict Customer Churn"
      ],
      "metadata": {
        "id": "0FYekOYxtJfW"
      }
    },
    {
      "cell_type": "code",
      "source": [
        "import pandas as pd\n",
        "import numpy as np\n",
        "from sklearn.model_selection import train_test_split\n",
        "from sklearn.linear_model import LogisticRegression\n",
        "from sklearn.preprocessing import StandardScaler, OneHotEncoder\n",
        "from sklearn.compose import ColumnTransformer\n",
        "from sklearn.pipeline import Pipeline\n",
        "import random\n",
        "\n",
        "random.seed(42)\n",
        "\n",
        "regions = ['North', 'South', 'East', 'West']\n",
        "\n",
        "# Generate sample customer data\n",
        "data = {\n",
        "    'age': [random.randint(18, 65) for _ in range(100)],\n",
        "    'monthly_usage_hours': [random.randint(5, 100) for _ in range(100)],\n",
        "    'purchase_amount': [random.randint(50, 500) for _ in range(100)],\n",
        "    'customer_service_calls': [random.randint(0, 10) for _ in range(100)],\n",
        "    'region': [random.choice(regions) for _ in range(100)],\n",
        "    'churn': [random.choice([0, 1]) for _ in range(100)]\n",
        "}\n",
        "df = pd.DataFrame(data)\n",
        "\n",
        "# Features and target\n",
        "X = df[['age', 'monthly_usage_hours', 'purchase_amount', 'customer_service_calls',\n",
        "'region']]\n",
        "y = df['churn']\n",
        "\n",
        "# Preprocessing: Scale numerical features and one-hot encode categorical features\n",
        "preprocessor = ColumnTransformer(\n",
        "transformers=[\n",
        "('num', StandardScaler(), ['age', 'monthly_usage_hours', 'purchase_amount',\n",
        "'customer_service_calls']),\n",
        "('cat', OneHotEncoder(sparse_output=False), ['region'])\n",
        "])\n",
        "\n",
        "# Create pipeline with preprocessing and model\n",
        "model = Pipeline(steps=[\n",
        "('preprocessor', preprocessor),\n",
        "('classifier', LogisticRegression(random_state=42))\n",
        "])\n",
        "\n",
        "# Split data\n",
        "X_train, X_test, y_train, y_test = train_test_split(X, y, test_size=0.2,\n",
        "random_state=42)\n",
        "\n",
        "# Train model\n",
        "model.fit(X_train, y_train)\n",
        "\n",
        "# Predict churn probability for a new customer\n",
        "new_customer = pd.DataFrame({\n",
        "'age': [35],\n",
        "'monthly_usage_hours': [20],\n",
        "'purchase_amount': [150],\n",
        "'customer_service_calls': [5],\n",
        "'region': ['West']\n",
        "})\n",
        "churn_probability = model.predict_proba(new_customer)[0][1] # Probability of churn\n",
        "\n",
        "#(class 1)\n",
        "# Classify based on threshold (0.5)\n",
        "threshold = 0.5\n",
        "churn_prediction = 1 if churn_probability > threshold else 0\n",
        "print(f\"Churn Probability for new customer: {churn_probability:.2f}\")\n",
        "print(f\"Churn Prediction (1 = churn, 0 = no churn): {churn_prediction}\")\n",
        "\n",
        "# Display model coefficients\n",
        "feature_names = (model.named_steps['preprocessor']\n",
        ".named_transformers_['cat']\n",
        ".get_feature_names_out(['region'])).tolist() + ['age',\n",
        "'monthly_usage_hours', 'purchase_amount', 'customer_service_calls']\n",
        "coefficients = model.named_steps['classifier'].coef_[0]\n",
        "print(\"\\nModel Coefficients:\")\n",
        "for feature, coef in zip(feature_names, coefficients):\n",
        "    print(f\"{feature}: {coef:.2f}\")"
      ],
      "metadata": {
        "colab": {
          "base_uri": "https://localhost:8080/"
        },
        "id": "9gYWVPpYtJbh",
        "outputId": "9a628cc0-7e2b-4dd9-aa8f-f8b4da33e7b3"
      },
      "execution_count": 46,
      "outputs": [
        {
          "output_type": "stream",
          "name": "stdout",
          "text": [
            "Churn Probability for new customer: 0.26\n",
            "Churn Prediction (1 = churn, 0 = no churn): 0\n",
            "\n",
            "Model Coefficients:\n",
            "region_East: -0.11\n",
            "region_North: 0.24\n",
            "region_South: 0.07\n",
            "region_West: -0.02\n",
            "age: 0.69\n",
            "monthly_usage_hours: 0.03\n",
            "purchase_amount: 0.13\n",
            "customer_service_calls: -0.82\n"
          ]
        }
      ]
    },
    {
      "cell_type": "markdown",
      "source": [
        "#Part 3: Customer Segmentation"
      ],
      "metadata": {
        "id": "qyzBeX2KtLoz"
      }
    },
    {
      "cell_type": "code",
      "source": [
        "import pandas as pd\n",
        "import numpy as np\n",
        "from sklearn.cluster import KMeans\n",
        "from sklearn.preprocessing import StandardScaler\n",
        "import matplotlib.pyplot as plt\n",
        "import random\n",
        "\n",
        "random.seed(40)\n",
        "\n",
        "regions = ['North', 'South', 'East', 'West']\n",
        "\n",
        "# Generate sample customer data\n",
        "data = {\n",
        "    'annual_spending': [random.randint(100, 2000) for _ in range(100)],\n",
        "    'purchase_frequency': [random.randint(1, 20) for _ in range(100)],\n",
        "    'age': [random.randint(18, 65) for _ in range(100)],\n",
        "    'region': [random.choice(regions) for _ in range(100)]\n",
        "}\n",
        "df = pd.DataFrame(data)\n",
        "# Preprocess data: Select numerical features and scale them\n",
        "features = ['annual_spending', 'purchase_frequency', 'age']\n",
        "X = df[features]\n",
        "scaler = StandardScaler()\n",
        "X_scaled = scaler.fit_transform(X)\n",
        "# Determine optimal number of clusters using elbow method\n",
        "inertia = []\n",
        "K = range(1, 6)\n",
        "for k in K:\n",
        "    kmeans = KMeans(n_clusters=k, random_state=42)\n",
        "    kmeans.fit(X_scaled)\n",
        "    inertia.append(kmeans.inertia_)\n",
        "# Plot elbow curve\n",
        "plt.figure(figsize=(8, 5))\n",
        "plt.plot(K, inertia, 'bo-')\n",
        "plt.xlabel('Number of Clusters (K)')\n",
        "plt.ylabel('Inertia')\n",
        "plt.title('Elbow Method for Optimal K')\n",
        "plt.savefig('elbow_plot.png')\n",
        "plt.close()\n",
        "# Apply K-Means with optimal K (e.g., 3 based on elbow method)\n",
        "optimal_k = 3\n",
        "kmeans = KMeans(n_clusters=optimal_k, random_state=42)\n",
        "df['cluster'] = kmeans.fit_predict(X_scaled)\n",
        "# Analyze clusters\n",
        "cluster_summary = df.groupby('cluster')[features].mean().round(2)\n",
        "print(\"Cluster Characteristics:\")\n",
        "print(cluster_summary)\n",
        "# Example of targeted strategies\n",
        "for cluster in range(optimal_k):\n",
        "    print(f\"\\nCluster {cluster} Strategy:\")\n",
        "    if cluster_summary.loc[cluster, 'annual_spending'] > 1000:\n",
        "        print(\"High-spending customers: Offer exclusive promotions or loyalty rewards.\")\n",
        "    elif cluster_summary.loc[cluster, 'purchase_frequency'] > 10:\n",
        "        print(\"Frequent buyers: Provide bulk discounts or subscription plans.\")\n",
        "    else:\n",
        "        print(\"Low-engagement customers: Send personalized re-engagement campaigns.\")\n",
        "    # Save cluster assignments to CSV\n",
        "    df.to_csv('customer_segments.csv', index=False)"
      ],
      "metadata": {
        "colab": {
          "base_uri": "https://localhost:8080/"
        },
        "id": "TaFlR12GuaI7",
        "outputId": "60625cc3-eb90-4cc9-ac2c-89bd4a9fa108"
      },
      "execution_count": 47,
      "outputs": [
        {
          "output_type": "stream",
          "name": "stdout",
          "text": [
            "Cluster Characteristics:\n",
            "         annual_spending  purchase_frequency    age\n",
            "cluster                                            \n",
            "0                 774.00                5.68  53.42\n",
            "1                 924.58                8.48  25.55\n",
            "2                1393.24               15.37  43.87\n",
            "\n",
            "Cluster 0 Strategy:\n",
            "Low-engagement customers: Send personalized re-engagement campaigns.\n",
            "\n",
            "Cluster 1 Strategy:\n",
            "Low-engagement customers: Send personalized re-engagement campaigns.\n",
            "\n",
            "Cluster 2 Strategy:\n",
            "High-spending customers: Offer exclusive promotions or loyalty rewards.\n"
          ]
        }
      ]
    },
    {
      "cell_type": "markdown",
      "source": [
        "#Extra credit"
      ],
      "metadata": {
        "id": "VNBCBMn9tOF2"
      }
    },
    {
      "cell_type": "code",
      "source": [
        "import kagglehub\n",
        "import os\n",
        "import pandas as pd\n",
        "from sklearn.linear_model import LinearRegression\n",
        "import matplotlib.pyplot as plt\n",
        "\n",
        "# Download latest version\n",
        "path = kagglehub.dataset_download(\"mikhail1681/walmart-sales\")\n",
        "\n",
        "# Load dataset\n",
        "print(\"Path to dataset files:\", path)\n",
        "print(\"Files in dataset:\", os.listdir(path))\n",
        "file_path = os.path.join(path, \"Walmart_Sales.csv\")\n",
        "df = pd.read_csv(file_path)\n",
        "df['Date'] = pd.to_datetime(df['Date'], format=\"%d-%m-%Y\")\n",
        "\n",
        "\n",
        "month_sales_df = df[['Date','Weekly_Sales']].copy()\n",
        "month_sales_df['Date'] = pd.to_datetime(df['Date'])\n",
        "df = df.set_index('Date')\n",
        "\n",
        "# Aggregate to monthly\n",
        "monthly_sales = df['Weekly_Sales'].resample('ME').sum().reset_index()\n",
        "\n",
        "# Extract numeric month index for regression\n",
        "monthly_sales['month'] = range(1, len(monthly_sales) + 1)\n",
        "\n",
        "# Features (X) and target (y)\n",
        "X = monthly_sales[['month']]\n",
        "y = monthly_sales['Weekly_Sales']\n",
        "\n",
        "# --- 2. Train regression model ---\n",
        "model = LinearRegression()\n",
        "model.fit(X, y)\n",
        "\n",
        "# --- 3. Predict for next 6 months ---\n",
        "future_months = pd.DataFrame({'month': range(max(X['month'])+1, max(X['month'])+7)})\n",
        "predictions = model.predict(future_months)\n",
        "\n",
        "# --- 4. Plot results ---\n",
        "plt.figure(figsize=(10,5))\n",
        "plt.plot(monthly_sales['month'], y, label='Historical Sales')\n",
        "plt.plot(future_months['month'], predictions, label='Predicted Sales', linestyle='--')\n",
        "plt.xlabel('Month Index')\n",
        "plt.ylabel('Sales')\n",
        "plt.title('Monthly Sales Forecast (Linear Regression)')\n",
        "plt.legend()\n",
        "plt.show()"
      ],
      "metadata": {
        "colab": {
          "base_uri": "https://localhost:8080/",
          "height": 540
        },
        "id": "Tc4Z4gsnlZSx",
        "outputId": "66fd0cc5-9e25-44f6-b4e9-b3edd466d434"
      },
      "execution_count": 52,
      "outputs": [
        {
          "output_type": "stream",
          "name": "stdout",
          "text": [
            "Using Colab cache for faster access to the 'walmart-sales' dataset.\n",
            "Path to dataset files: /kaggle/input/walmart-sales\n",
            "Files in dataset: ['Walmart_Sales.csv']\n"
          ]
        },
        {
          "output_type": "display_data",
          "data": {
            "text/plain": [
              "<Figure size 1000x500 with 1 Axes>"
            ],
            "image/png": "[encoded data removed]"
          },
          "metadata": {}
        }
      ]
    }
  ]
}